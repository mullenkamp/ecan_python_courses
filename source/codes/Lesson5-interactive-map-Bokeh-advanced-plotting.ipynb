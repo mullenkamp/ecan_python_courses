{
 "cells": [
  {
   "cell_type": "markdown",
   "metadata": {},
   "source": [
    "# Creating an advanced interactive map with Bokeh\n",
    "\n"
   ]
  },
  {
   "cell_type": "markdown",
   "metadata": {},
   "source": [
    "This page demonstrates, how it is possible to visualize any kind of geometries (normal geometries + Multi-geometries) in Bokeh and add a legend into the map which is one of the key elements of a good map. "
   ]
  },
  {
   "cell_type": "code",
   "execution_count": 36,
   "metadata": {
    "collapsed": false
   },
   "outputs": [
    {
     "name": "stderr",
     "output_type": "stream",
     "text": [
      "INFO:Fiona:Failed to auto identify EPSG: 7\n",
      "INFO:Fiona:Failed to auto identify EPSG: 7\n"
     ]
    }
   ],
   "source": [
    "from bokeh.palettes import YlOrRd as palette  #Spectral6 as palette\n",
    "from bokeh.plotting import figure, save\n",
    "from bokeh.models import ColumnDataSource, HoverTool, LogColorMapper\n",
    "from bokeh.palettes import RdYlGn10 as palette \n",
    "import geopandas as gpd\n",
    "import pysal as ps\n",
    "import numpy as np\n",
    "\n",
    "# Filepaths\n",
    "fp = r\"C:\\HY-Data\\HENTENKA\\KOODIT\\Opetus\\Automating-GIS-processes\\AutoGIS-Sphinx\\data\\dataE5\\TravelTimes_to_5975375_RailwayStation.shp\"\n",
    "roads_fp = r\"C:\\HY-Data\\HENTENKA\\KOODIT\\Opetus\\Automating-GIS-processes\\AutoGIS-Sphinx\\data\\dataE5\\roads.shp\"\n",
    "metro_fp = r\"C:\\HY-Data\\HENTENKA\\KOODIT\\Opetus\\Automating-GIS-processes\\AutoGIS-Sphinx\\data\\dataE5\\metro.shp\" \n",
    "\n",
    "# Read the data with Geopandas\n",
    "data = gpd.read_file(fp)\n",
    "roads = gpd.read_file(roads_fp)\n",
    "metro = gpd.read_file(metro_fp)\n",
    "\n",
    "# Ensure that the CRS is the same than in the all layers \n",
    "data['geometry'] = data['geometry'].to_crs(epsg=3067)\n",
    "roads['geometry'] = roads['geometry'].to_crs(epsg=3067)\n",
    "metro['geometry'] = metro['geometry'].to_crs(epsg=3067)\n"
   ]
  },
  {
   "cell_type": "markdown",
   "metadata": {},
   "source": [
    "- Next, let's create a set of functions that are used for getting the x and y coordinates of the geometries. Shapefiles etc. can often have Multi-geometries (MultiLineStrings etc.), thus we need to handle those as well which makes things slightly more complicated. It is always a good practice to slice your functions into small pieces which is what we have done here:"
   ]
  },
  {
   "cell_type": "code",
   "execution_count": 37,
   "metadata": {
    "collapsed": false
   },
   "outputs": [],
   "source": [
    "def getXYCoords(geometry, coord_type):\n",
    "    \"\"\" Returns either x or y coordinates from  geometry coordinate sequence. Used with LineString and Polygon geometries.\"\"\"\n",
    "    if coord_type == 'x':\n",
    "        return geometry.coords.xy[0]\n",
    "    elif coord_type == 'y':\n",
    "        return geometry.coords.xy[1]\n",
    "\n",
    "def getPolyCoords(geometry, coord_type):\n",
    "    \"\"\" Returns Coordinates of Polygon using the Exterior of the Polygon.\"\"\"\n",
    "    ext = geometry.exterior\n",
    "    return getXYCoords(ext, coord_type)\n",
    "    \n",
    "def getLineCoords(geometry, coord_type):\n",
    "    \"\"\" Returns Coordinates of Linestring object.\"\"\"\n",
    "    return getXYCoords(geometry, coord_type)\n",
    "\n",
    "def getPointCoords(geometry, coord_type):\n",
    "    \"\"\" Returns Coordinates of Point object.\"\"\"\n",
    "    if coord_type == 'x':\n",
    "        return geometry.x\n",
    "    elif coord_type == 'y':\n",
    "        return geometry.y\n",
    "    \n",
    "def multiGeomHandler(multi_geometry, coord_type, geom_type):\n",
    "    \"\"\" \n",
    "    Function for handling multi-geometries. Can be MultiPoint, MultiLineString or MultiPolygon. \n",
    "    Returns a list of coordinates where all parts of Multi-geometries are merged into a single list. \n",
    "    Individual geometries are separated with np.nan which is how Bokeh wants them. \n",
    "    # Bokeh documentation regarding the Multi-geometry issues can be found here (it is an open issue)\n",
    "    # https://github.com/bokeh/bokeh/issues/2321\n",
    "    \"\"\"\n",
    "    \n",
    "    for i, part in enumerate(multi_geometry):\n",
    "        # On the first part of the Multi-geometry initialize the coord_array (np.array)\n",
    "        if i == 0:\n",
    "            if geom_type == \"MultiPoint\":\n",
    "                coord_arrays = np.append(getPointCoords(part, coord_type), np.nan)\n",
    "            elif geom_type == \"MultiLineString\":\n",
    "                coord_arrays = np.append(getLineCoords(part, coord_type), np.nan)\n",
    "            elif geom_type == \"MultiPolygon\":\n",
    "                coord_arrays = np.append(getPolyCoords(part, coord_type), np.nan)\n",
    "        else:\n",
    "            if geom_type == \"MultiPoint\":\n",
    "                coord_arrays = np.concatenate([coord_arrays, np.append(getPointCoords(part, coord_type), np.nan)])\n",
    "            elif geom_type == \"MultiLineString\":\n",
    "                coord_arrays = np.concatenate([coord_arrays, np.append(getLineCoords(part, coord_type), np.nan)])\n",
    "            elif geom_type == \"MultiPolygon\":\n",
    "                coord_arrays = np.concatenate([coord_arrays, np.append(getPolyCoords(part, coord_type), np.nan)])\n",
    "    \n",
    "    # Return the coordinates \n",
    "    return coord_arrays\n",
    "    \n",
    "\n",
    "def getCoords(row, geom_col, coord_type):\n",
    "    \"\"\"\n",
    "    Returns coordinates ('x' or 'y') of a geometry (Point, LineString or Polygon) as a list (if geometry is LineString or Polygon). \n",
    "    Can handle also MultiGeometries.\n",
    "    \"\"\"\n",
    "    # Get geometry\n",
    "    geom = row[geom_col]\n",
    "    \n",
    "    # Check the geometry type\n",
    "    gtype = geom.geom_type\n",
    "    \n",
    "    # \"Normal\" geometries\n",
    "    # -------------------\n",
    "    \n",
    "    if gtype == \"Point\":\n",
    "        return getPointCoords(geom, coord_type)\n",
    "    elif gtype == \"LineString\":\n",
    "        return list( getLineCoords(geom, coord_type) )\n",
    "    elif gtype == \"Polygon\":\n",
    "        return list( getPolyCoords(geom, coord_type) )\n",
    "        \n",
    "    # Multi geometries\n",
    "    # ----------------\n",
    "    \n",
    "    else:\n",
    "        return list( multiGeomHandler(geom, coord_type, gtype) ) \n",
    "       "
   ]
  },
  {
   "cell_type": "markdown",
   "metadata": {},
   "source": [
    "- Now we can apply our functions and calculate the x and y coordinates of any kind of geometry by using the same function, i.e. `getCoords()`. "
   ]
  },
  {
   "cell_type": "code",
   "execution_count": 38,
   "metadata": {
    "collapsed": true
   },
   "outputs": [],
   "source": [
    "# Calculate the x and y coordinates of the grid\n",
    "data['x'] = data.apply(getCoords, geom_col=\"geometry\", coord_type=\"x\", axis=1)\n",
    "data['y'] = data.apply(getCoords, geom_col=\"geometry\", coord_type=\"y\", axis=1)\n",
    "\n",
    "# Calculate the x and y coordinates of the roads\n",
    "roads['x'] = roads.apply(getCoords, geom_col=\"geometry\", coord_type=\"x\", axis=1)\n",
    "roads['y'] = roads.apply(getCoords, geom_col=\"geometry\", coord_type=\"y\", axis=1)\n",
    "\n",
    "# Calculate the x and y coordinates of metro\n",
    "metro['x'] = metro.apply(getCoords, geom_col=\"geometry\", coord_type=\"x\", axis=1)\n",
    "metro['y'] = metro.apply(getCoords, geom_col=\"geometry\", coord_type=\"y\", axis=1)"
   ]
  },
  {
   "cell_type": "markdown",
   "metadata": {},
   "source": [
    "- Next, we need to classify the travel time values into 5 minute intervals using Pysal's user defined classifier. We also create legend labels for the classes."
   ]
  },
  {
   "cell_type": "code",
   "execution_count": 39,
   "metadata": {
    "collapsed": false
   },
   "outputs": [],
   "source": [
    "# Replace No Data values (-1) with large number (999)\n",
    "data = data.replace(-1, 999)\n",
    "\n",
    "# Classify our travel times into 5 minute classes until 200 minutes\n",
    "# Create a list of values where minumum value is 5, maximum value is 200 and step is 5.\n",
    "breaks = [x for x in range(5, 200, 5)]\n",
    "\n",
    "classifier = ps.User_Defined.make(bins=breaks)\n",
    "pt_classif = data[['pt_r_tt']].apply(classifier)\n",
    "car_classif = data[['car_r_t']].apply(classifier)\n",
    "\n",
    "# Rename columns\n",
    "pt_classif.columns = ['pt_r_tt_ud']\n",
    "car_classif.columns = ['car_r_t_ud']\n",
    "\n",
    "# Join back to main data\n",
    "data = data.join(pt_classif)\n",
    "data = data.join(car_classif)\n",
    "\n",
    "# Create names for the legend (until 60 minutes)\n",
    "upper_limit = 60\n",
    "step = 5\n",
    "# This will produce: [\"0-5\", \"5-10\", \"10-15\", ... , \"60 <\"]\n",
    "names = [\"%s-%s \" % (x-5, x) for x in range(step, upper_limit, step)]\n",
    "# Add legend label for over 60\n",
    "names.append(\"%s <\" % upper_limit)\n",
    "\n",
    "# Assign legend names for the classes\n",
    "data['label_pt'] = None\n",
    "data['label_car'] = None\n",
    "\n",
    "for i in range(len(names)):\n",
    "    # Update rows where class is i\n",
    "    data.loc[data['pt_r_tt_ud'] == i, 'label_pt'] = names[i]\n",
    "    data.loc[data['car_r_t_ud'] == i, 'label_car'] = names[i]\n",
    "\n",
    "# Update all cells that didn't get any value with \"60 <\"\n",
    "data['label_pt'] = data['label_pt'].fillna(\"%s <\" % upper_limit)\n",
    "data['label_car'] = data['label_car'].fillna(\"%s <\" % upper_limit)"
   ]
  },
  {
   "cell_type": "markdown",
   "metadata": {},
   "source": [
    "- Finally, we can visualize our layers with Bokeh, add a legend for travel times and add HoverTools for Destination Point and the grid values (travel times)"
   ]
  },
  {
   "cell_type": "code",
   "execution_count": 40,
   "metadata": {
    "collapsed": false,
    "scrolled": false
   },
   "outputs": [],
   "source": [
    "# Select only necessary columns for our plotting to keep the amount of data minumum\n",
    "df = data[['x', 'y', 'pt_r_tt_ud', 'pt_r_tt', 'car_r_t', 'from_id', 'label_pt']]\n",
    "dfsource = ColumnDataSource(data=df)\n",
    "\n",
    "# Exclude geometry from roads as well\n",
    "rdf = roads[['x', 'y']]\n",
    "rdfsource = ColumnDataSource(data=rdf)\n",
    "\n",
    "# Exclude geometry from metro as well\n",
    "mdf = metro[['x','y']]\n",
    "mdfsource = ColumnDataSource(data=mdf)\n",
    "\n",
    "TOOLS = \"pan,wheel_zoom,box_zoom,reset,save\"\n",
    "\n",
    "# Flip the colors in color palette\n",
    "palette.reverse()\n",
    "color_mapper = LogColorMapper(palette=palette)\n",
    "\n",
    "p = figure(title=\"Travel times to Helsinki city center by public transportation\", tools=TOOLS, \n",
    "           plot_width=650, plot_height=500, active_scroll = \"wheel_zoom\" ) \n",
    "\n",
    "# Do not add grid line \n",
    "p.grid.grid_line_color = None\n",
    "\n",
    "# Add polygon grid and a legend for it \n",
    "grid = p.patches('x', 'y', source=dfsource, name=\"grid\",\n",
    "         fill_color={'field': 'pt_r_tt_ud', 'transform': color_mapper},\n",
    "         fill_alpha=1.0, line_color=\"black\", line_width=0.03, legend=\"label_pt\")\n",
    "\n",
    "# Add roads\n",
    "r = p.multi_line('x', 'y', source=rdfsource, color=\"grey\")\n",
    "\n",
    "# Add metro\n",
    "m = p.multi_line('x', 'y', source=mdfsource, color=\"red\")\n",
    "\n",
    "# Modify legend location\n",
    "p.legend.location = \"top_right\"\n",
    "p.legend.orientation = \"vertical\"\n",
    "\n",
    "# Insert a circle on top of the Central Railway Station (coords in EurefFIN-TM35FIN)\n",
    "station_x = 385752.214\n",
    "station_y =  6672143.803\n",
    "circle = p.circle(x=[station_x], y=[station_y], name=\"point\", size=6, color=\"yellow\")\n",
    "\n",
    "# Add two separate hover tools for the data\n",
    "phover = HoverTool(renderers=[circle])\n",
    "phover.tooltips=[(\"Destination\", \"Railway Station\")]\n",
    "\n",
    "ghover = HoverTool(renderers=[grid])\n",
    "ghover.tooltips=[(\"YKR-ID\", \"@from_id\"),\n",
    "                (\"PT time\", \"@pt_r_tt\"),\n",
    "                (\"Car time\", \"@car_r_t\"),\n",
    "               ]\n",
    "\n",
    "p.add_tools(ghover)\n",
    "p.add_tools(phover)\n",
    "\n",
    "# Output filepath to HTML\n",
    "output_file = r\"C:\\HY-Data\\HENTENKA\\KOODIT\\Opetus\\Automating-GIS-processes\\AutoGIS-Sphinx\\data\\accessibility_map_3.html\"\n",
    "\n",
    "# Save the map\n",
    "save(p, output_file);"
   ]
  }
 ],
 "metadata": {
  "anaconda-cloud": {},
  "kernelspec": {
   "display_name": "Python [default]",
   "language": "python",
   "name": "python3"
  }
 },
 "nbformat": 4,
 "nbformat_minor": 1
}
