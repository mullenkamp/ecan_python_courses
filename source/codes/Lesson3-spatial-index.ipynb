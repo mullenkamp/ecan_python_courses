{
 "cells": [
  {
   "cell_type": "markdown",
   "metadata": {},
   "source": [
    "## Spatial index - improving performance \n",
    "\n",
    "Doing Point in Polygon with large datasets can be a rather slow operation without optimizing the speed of a look-up query by using [spatial indexing](https://en.wikipedia.org/wiki/Spatial_database#Spatial_index). The most commonly used spatial index for boosting up the performance of PIP is [R-tree](https://en.wikipedia.org/wiki/R-tree). "
   ]
  }
 ],
 "metadata": {
  "anaconda-cloud": {},
  "kernelspec": {
   "display_name": "Python [conda root]",
   "language": "python",
   "name": "conda-root-py"
  },
  "language_info": {
   "codemirror_mode": {
    "name": "ipython",
    "version": 3
   },
   "file_extension": ".py",
   "mimetype": "text/x-python",
   "name": "python",
   "nbconvert_exporter": "python",
   "pygments_lexer": "ipython3",
   "version": "3.5.2"
  }
 },
 "nbformat": 4,
 "nbformat_minor": 1
}
