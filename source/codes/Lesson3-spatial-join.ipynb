{
 "cells": [
  {
   "cell_type": "markdown",
   "metadata": {},
   "source": [
    "# Spatial join\n",
    "\n",
    "[Spatial join](http://wiki.gis.com/wiki/index.php/Spatial_Join) is yet another classic GIS problem. Getting attributes from one layer and transferring them into another layer based on their spatial relationship is something you most likely need to do on a regular basis. \n",
    "\n",
    "**Sources**\n",
    "\n",
    "Following materials are partly based on documentation of [Geopandas](http://geopandas.org/geocoding.html).\n",
    "\n",
    "## Performing spatial join in Geopandas\n",
    "\n",
    "The previous materials focused on learning how to perform a [Point in Polygon query](). We could now apply those techniques and create our own function to perform a spatial join between two layers based on their spatial relationship. We could for example join the attributes of a polygon layer into a point layer where each point would get the attributes of a polygon that `contains` the point. \n",
    "\n",
    "Luckily, [spatial join](http://geopandas.org/mergingdata.html#spatial-joins) (`gpd.sjoin()` -function) is already implemented in Geopandas, thus we do not need to create it ourselves. There are three possible types of join that can be applied in spatial join that are determined with `op` -parameter:\n",
    "\n",
    "  - `\"intersects\"`\n",
    "  - `\"within\"`\n",
    "  - `\"contains\"`\n",
    "  \n",
    "Sounds familiar? Yep, all of those spatial relationships were discussed in the [previous materials](), thus you should know how they work. \n",
    "\n",
    "Let's perform a spatial join between the address-point Shapefile that we [created]() and then [reprojected]() and a Polygon layer that is a 250m x 250m grid showing the amount of people living in Helsinki Region.\n",
    "\n",
    "### Download and clean the data\n",
    "\n",
    "For this lesson we will be using publicly available population data from Helsinki that can be downloaded from [Helsinki Region Infroshare (HRI)](http://www.hri.fi/en/dataset/vaestotietoruudukko) which is an excellent source that provides all sorts of open data from Helsinki, Finland. From HRI download a [Population grid for year 2015](https://www.hsy.fi/sites/AvoinData/AvoinData/SYT/Tietoyhteistyoyksikko/Shape%20(Esri)/V%C3%A4est%C3%B6tietoruudukko/Vaestotietoruudukko_2015.zip) that is a dataset (.shp) produced by Helsinki Region Environmental Services Authority (HSY) (see [this page](https://www.hsy.fi/fi/asiantuntijalle/avoindata/Sivut/AvoinData.aspx?dataID=7) to access data from different years).\n",
    "\n",
    " - Unzip the file in Terminal into a folder called Pop15 (using -d flag)\n",
    " "
   ]
  },
  {
   "cell_type": "markdown",
   "metadata": {},
   "source": [
    "  ```bash\n",
    "  $ cd\n",
    "  $ unzip Vaestotietoruudukko_2015.zip -d Pop15\n",
    "  $ ls Pop15\n",
    "  Vaestotietoruudukko_2015.dbf  Vaestotietoruudukko_2015.shp\n",
    "  Vaestotietoruudukko_2015.prj  Vaestotietoruudukko_2015.shx\n",
    "  ```"
   ]
  },
  {
   "cell_type": "markdown",
   "metadata": {},
   "source": [
    "You should now have a folder `/home/geo/Pop15` with files listed above.\n",
    "\n",
    " - Let's read the data into memory and see what we have."
   ]
  },
  {
   "cell_type": "code",
   "execution_count": 3,
   "metadata": {},
   "outputs": [
    {
     "name": "stdout",
     "output_type": "stream",
     "text": [
      "   ASUKKAITA  ASVALJYYS  IKA0_9  IKA10_19  IKA20_29  IKA30_39  IKA40_49  \\\n",
      "0          8       31.0      99        99        99        99        99   \n",
      "1          6       42.0      99        99        99        99        99   \n",
      "2          8       44.0      99        99        99        99        99   \n",
      "3          7       64.0      99        99        99        99        99   \n",
      "4         19       23.0      99        99        99        99        99   \n",
      "\n",
      "   IKA50_59  IKA60_69  IKA70_79  IKA_YLI80  INDEX  \\\n",
      "0        99        99        99         99    688   \n",
      "1        99        99        99         99    703   \n",
      "2        99        99        99         99    710   \n",
      "3        99        99        99         99    711   \n",
      "4        99        99        99         99    715   \n",
      "\n",
      "                                            geometry  \n",
      "0  POLYGON ((25472499.99532626 6689749.005069185,...  \n",
      "1  POLYGON ((25472499.99532626 6685998.998064222,...  \n",
      "2  POLYGON ((25472499.99532626 6684249.004130407,...  \n",
      "3  POLYGON ((25472499.99532626 6683999.004997005,...  \n",
      "4  POLYGON ((25472499.99532626 6682998.998461431,...  \n"
     ]
    }
   ],
   "source": [
    "import geopandas as gpd\n",
    "\n",
    "# Filepath\n",
    "fp = r\"/home/geo/Pop15/Vaestotietoruudukko_2015.shp\"\n",
    "\n",
    "# Read the data\n",
    "pop = gpd.read_file(fp)\n",
    "\n",
    "# See the first rows\n",
    "print(pop.head())"
   ]
  },
  {
   "cell_type": "markdown",
   "metadata": {},
   "source": [
    "Okey so we have multiple columns in the dataset but the most important one here is the column `ASUKKAITA` (*population in Finnish*) that tells the amount of inhabitants living under that polygon.\n",
    " \n",
    " - Let's change the name of that columns into `pop15` so that it is more intuitive. Changing column names is easy in Pandas / Geopandas using a function called `rename()` where we pass a dictionary to a parameter `columns={'oldname': 'newname'}`. "
   ]
  },
  {
   "cell_type": "code",
   "execution_count": 4,
   "metadata": {},
   "outputs": [
    {
     "name": "stdout",
     "output_type": "stream",
     "text": [
      "Index(['pop15', 'ASVALJYYS', 'IKA0_9', 'IKA10_19', 'IKA20_29', 'IKA30_39',\n",
      "       'IKA40_49', 'IKA50_59', 'IKA60_69', 'IKA70_79', 'IKA_YLI80', 'INDEX',\n",
      "       'geometry'],\n",
      "      dtype='object')\n"
     ]
    }
   ],
   "source": [
    "# Change the name of a column\n",
    "pop = pop.rename(columns={'ASUKKAITA': 'pop15'})\n",
    "\n",
    "# See the column names and confirm that we now have a column called 'pop15'\n",
    "print(pop.columns)"
   ]
  },
  {
   "cell_type": "markdown",
   "metadata": {},
   "source": [
    " - Let's also get rid of all unnecessary columns by selecting only columns that we need i.e. `pop15` and `geometry`"
   ]
  },
  {
   "cell_type": "code",
   "execution_count": 5,
   "metadata": {},
   "outputs": [
    {
     "name": "stdout",
     "output_type": "stream",
     "text": [
      "      pop15                                           geometry\n",
      "5782      9  POLYGON ((25513499.99632164 6685498.999797418,...\n",
      "5783  30244  POLYGON ((25513999.999929 6659998.998172711, 2...\n"
     ]
    }
   ],
   "source": [
    "# Columns that will be sected\n",
    "selected_cols = ['pop15', 'geometry']\n",
    "\n",
    "# Select those columns\n",
    "pop = pop[selected_cols]\n",
    "\n",
    "# Let's see the last 2 rows\n",
    "print(pop.tail(2))"
   ]
  },
  {
   "cell_type": "markdown",
   "metadata": {},
   "source": [
    "Now we have cleaned the data and have only those columns that we need for our analysis.  "
   ]
  },
  {
   "cell_type": "markdown",
   "metadata": {},
   "source": [
    "### Join the layers\n",
    "\n",
    "Now we are ready to perform the spatial join between the two layers that we have. The aim here is to get information about **how many people live in a polygon that contains an individual address-point** . Thus, we want to join attributes from the population layer we just modified into the addresses point layer `addresses_epsg3879.shp`. \n",
    "\n",
    " - Read the addresses layer into memory"
   ]
  },
  {
   "cell_type": "code",
   "execution_count": 12,
   "metadata": {},
   "outputs": [
    {
     "name": "stdout",
     "output_type": "stream",
     "text": [
      "                                 address  \\\n",
      "0  Kampinkuja 1, 00100 Helsinki, Finland   \n",
      "1   Kaivokatu 8, 00101 Helsinki, Finland   \n",
      "\n",
      "                                      geometry    id  \n",
      "0  POINT (25496123.30852197 6672833.941567578)  1001  \n",
      "1  POINT (25496774.28242895 6672999.698581985)  1002  \n"
     ]
    }
   ],
   "source": [
    "# Addresses filpath\n",
    "addr_fp = r\"/home/geo/addresses_epsg3879.shp\"\n",
    "\n",
    "# Read data\n",
    "addresses = gpd.read_file(addr_fp)\n",
    "\n",
    "# Check the head of the file\n",
    "print(addresses.head(2))"
   ]
  },
  {
   "cell_type": "markdown",
   "metadata": {},
   "source": [
    " - Let's make sure that the coordinate reference system of the layers are identical"
   ]
  },
  {
   "cell_type": "code",
   "execution_count": 13,
   "metadata": {},
   "outputs": [
    {
     "name": "stdout",
     "output_type": "stream",
     "text": [
      "{'y_0': 0, 'no_defs': True, 'x_0': 25500000, 'k': 1, 'lat_0': 0, 'units': 'm', 'lon_0': 25, 'ellps': 'GRS80', 'proj': 'tmerc'}\n",
      "{'y_0': 0, 'no_defs': True, 'x_0': 25500000, 'k': 1, 'lat_0': 0, 'units': 'm', 'lon_0': 25, 'ellps': 'GRS80', 'proj': 'tmerc'}\n"
     ]
    },
    {
     "data": {
      "text/plain": [
       "True"
      ]
     },
     "execution_count": 13,
     "output_type": "execute_result",
     "metadata": {}
    }
   ],
   "source": [
    "# Check the crs of address points\n",
    "print(addresses.crs)\n",
    "\n",
    "# Check the crs of population layer\n",
    "print(pop.crs)\n",
    "\n",
    "# Do they match? - We can test that\n",
    "addresses.crs == pop.crs"
   ]
  },
  {
   "cell_type": "markdown",
   "metadata": {},
   "source": [
    "Indeed they are identical. Thus, we can be sure that when doing spatial queries between layers the locations match and we get the right results e.g. from the spatial join that we are conducting here. \n",
    "\n",
    " - Let's now join the attributes from `pop` GeoDataFrame into `addresses` GeoDataFrame by using `gpd.sjoin()` -function"
   ]
  },
  {
   "cell_type": "code",
   "execution_count": 43,
   "metadata": {},
   "outputs": [
    {
     "name": "stdout",
     "output_type": "stream",
     "text": [
      "                                          address  \\\n",
      "16  Malminkartanontie 17, 00410 Helsinki, Finland   \n",
      "19     Pitäjänmäentie 15, 00370 Helsinki, Finland   \n",
      "12       Trumstigen 8, 00420 Helsingfors, Finland   \n",
      "11           Kuparitie 8, 00440 Helsinki, Finland   \n",
      "15            Kylätie 23, 00320 Helsinki, Finland   \n",
      "\n",
      "                                       geometry    id  index_right  pop15  \n",
      "16  POINT (25492349.68368251 6681772.551210108)  1017         2684     74  \n",
      "19  POINT (25492292.61413005 6679039.264838208)  1020         2691    241  \n",
      "12  POINT (25493207.62503373 6680836.727432437)  1013         2852    577  \n",
      "11  POINT (25493575.10327127 6679775.868274149)  1012         2949    562  \n",
      "15   POINT (25494077.1680778 6678341.639159317)  1016         3036    414  \n"
     ]
    }
   ],
   "source": [
    "# Make a spatial join\n",
    "join = gpd.sjoin(addresses, pop, how=\"inner\", op=\"within\")\n",
    "\n",
    "# Let's check the result\n",
    "print(join.head())"
   ]
  },
  {
   "cell_type": "markdown",
   "metadata": {},
   "source": [
    "Awesome! Now we have performed a successful spatial join where we got two new columns into our `join` GeoDataFrame, i.e. `index_right` that tells the index of the matching polygon in the `pop` layer and `pop15` which is the population in the cell where the address-point is located.   \n",
    "\n",
    " - Let's save this layer into a new Shapefile"
   ]
  },
  {
   "cell_type": "code",
   "execution_count": 44,
   "metadata": {},
   "outputs": [],
   "source": [
    "# Output path\n",
    "outfp = r\"/home/geo/addresses_pop15_epsg3979.shp\"\n",
    "\n",
    "# Save to disk\n",
    "join.to_file(outfp)"
   ]
  },
  {
   "cell_type": "markdown",
   "metadata": {},
   "source": [
    "Do the results make sense? Let's evaluate this a bit by plotting the points where color intensity indicates the population numbers. \n",
    "\n",
    " - Plot the points and use the `pop15` column to indicate the color. `cmap` -parameter tells to use a sequential colormap for the values, `markersize` adjusts the size of a point, `scheme` parameter can be used to adjust the classification method based on pysal, and `legend` tells that we want to have a legend."
   ]
  },
  {
   "cell_type": "code",
   "execution_count": 3,
   "metadata": {},
   "outputs": [],
   "source": [
    "import matplotlib.pyplot as plt\n",
    "\n",
    "join.plot(column='pop15', cmap=\"Reds\", markersize=7, scheme='natural_breaks', legend=True)"
   ]
  },
  {
   "cell_type": "markdown",
   "metadata": {},
   "source": [
    "By knowing approximately how population is distributed in Helsinki, it seems that the results do make sense as the points with highest population are located in the south where the city center of Helsinki is. "
   ]
  }
 ],
 "metadata": {
  "anaconda-cloud": {},
  "kernelspec": {
   "display_name": "Python [conda root]",
   "language": "python",
   "name": "conda-root-py"
  },
  "language_info": {
   "codemirror_mode": {
    "name": "ipython",
    "version": 3.0
   },
   "file_extension": ".py",
   "mimetype": "text/x-python",
   "name": "python",
   "nbconvert_exporter": "python",
   "pygments_lexer": "ipython3",
   "version": "3.5.2"
  }
 },
 "nbformat": 4,
 "nbformat_minor": 1
}