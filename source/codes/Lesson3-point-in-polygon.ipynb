{
 "cells": [
  {
   "cell_type": "markdown",
   "metadata": {},
   "source": [
    "# Spatial queries: Point in Polygon & Intersect\n",
    "\n",
    "Finding out if a certain point is located inside or outside of an area, or finding out if a line intersects with another line or polygon are fundamental geospatial operations that are often used e.g. to select data based on location. Such spatial queries are one of the typical first steps of the workflow when doing spatial analysis. Performing a spatial join (will be introduced later) between two spatial datasets is one of the most typical applications where Point in Polygon (PIP) query is used. \n",
    "\n",
    "## How to check if point is inside a polygon?\n",
    "\n",
    "Computationally, detecting if a point is inside a Polygon is most commonly done using a specific formula called [Ray Casting algorithm](https://en.wikipedia.org/wiki/Point_in_polygon#Ray_casting_algorithm). Luckily, we do not need to create such a function ourselves for conducting the Point in Polygon (PIP) query. Instead, we can take advantage of [Shapely's binary predicates](http://toblerity.org/shapely/manual.html#binary-predicates) that can evaluate the topolocical relationships between geographical objects, such as the PIP as we're interested here. \n",
    "\n",
    "There are basically two ways of conducting PIP in Shapely: \n",
    "  \n",
    "  1. using a function called [.within()](http://toblerity.org/shapely/manual.html#object.within) that checks if a point is within a polygon\n",
    "  2. using a function called [.contains()](http://toblerity.org/shapely/manual.html#object.contains) that checks if a polygon contains a point\n",
    "  \n",
    "Notice: even though we are talking here about **Point** in Polygon operation, it is also possible to check if a LineString or Polygon is inside another Polygon. \n",
    "\n",
    " - Let's first create a Polygon using a list of coordinate-tuples and a couple of Point objects"
   ]
  },
  {
   "cell_type": "code",
   "execution_count": 22,
   "metadata": {},
   "outputs": [
    {
     "name": "stdout",
     "output_type": "stream",
     "text": [
      "POINT (24.952242 60.1696017)\n",
      "POINT (24.976567 60.16125)\n",
      "POLYGON ((24.950899 60.169158, 24.953492 60.169158, 24.95351 60.170104, 24.950958 60.16999, 24.950899 60.169158))\n"
     ]
    }
   ],
   "source": [
    "from shapely.geometry import Point, Polygon\n",
    "\n",
    "# Create Point objects\n",
    "p1 = Point(24.952242, 60.1696017)\n",
    "p2 = Point(24.976567, 60.1612500)\n",
    "\n",
    "\n",
    "# Create a Polygon\n",
    "coords = [(24.950899, 60.169158), (24.953492, 60.169158), (24.953510, 60.170104), (24.950958, 60.169990)]\n",
    "poly = Polygon(coords)\n",
    "\n",
    "# Let's check what we have\n",
    "print(p1)\n",
    "print(p2)\n",
    "print(poly)"
   ]
  },
  {
   "cell_type": "markdown",
   "metadata": {},
   "source": [
    " - Let's check if those points are `within` the polygon"
   ]
  },
  {
   "cell_type": "code",
   "execution_count": 21,
   "metadata": {},
   "outputs": [
    {
     "name": "stdout",
     "output_type": "stream",
     "text": [
      "Is p1 within the polygon?:  True\n",
      "Is p2 within the polygon?:  False\n"
     ]
    }
   ],
   "source": [
    "# Check if p1 is within the polygon using the within function\n",
    "p1_within = p1.within(poly)\n",
    "\n",
    "# Check if p2 is within the polygon\n",
    "p2_within = p2.within(poly)\n",
    "\n",
    "# Print the results\n",
    "print(\"Is p1 within the polygon?: \", p1_within)\n",
    "print(\"Is p2 within the polygon?: \", p2_within)"
   ]
  },
  {
   "cell_type": "markdown",
   "metadata": {},
   "source": [
    "Okey, so we can see that the first point seems to be inside that polygon and the other one doesn't. \n",
    "  \n",
    "  - In fact, the first point is close to the center of the polygon as we can see:"
   ]
  },
  {
   "cell_type": "code",
   "execution_count": 23,
   "metadata": {},
   "outputs": [
    {
     "name": "stdout",
     "output_type": "stream",
     "text": [
      "POINT (24.952242 60.1696017)\n",
      "POINT (24.95224242849236 60.16960179038188)\n"
     ]
    }
   ],
   "source": [
    "print(p1)\n",
    "print(poly.centroid)"
   ]
  },
  {
   "cell_type": "markdown",
   "metadata": {},
   "source": [
    " - It is also possible to do PIP other way around, i.e. to check if polygon contains a point:"
   ]
  },
  {
   "cell_type": "code",
   "execution_count": 27,
   "metadata": {},
   "outputs": [
    {
     "name": "stdout",
     "output_type": "stream",
     "text": [
      "Does polygon contain p1?:  True\n",
      "Does polygon contain p2?:  False\n"
     ]
    }
   ],
   "source": [
    "# Does polygon contain point 1\n",
    "print(\"Does polygon contain p1?: \", poly.contains(p1))\n",
    "\n",
    "# What about the other point? \n",
    "print(\"Does polygon contain p2?: \", poly.contains(p2))"
   ]
  },
  {
   "cell_type": "markdown",
   "metadata": {},
   "source": [
    "Thus, both ways has the same results. \n",
    "\n",
    "Which one should you use then? Well, it depends: \n",
    "\n",
    " - if you have many points and just one polygon and you try to find out which one of them is inside the polygon:\n",
    "   \n",
    "    - you need to iterate over the points and check one at a time if it is **within()** the polygon specified\n",
    "    \n",
    " - if you have many polygons and just one point and you want to find out which polygon contains the point\n",
    "   \n",
    "   - you need to iterate over the polygons until you find a polygon that **contains()** the point specified (assuming there are no overlapping polygons)"
   ]
  },
  {
   "cell_type": "markdown",
   "metadata": {},
   "source": [
    "## Intersect\n",
    "\n",
    "Another typical geospatial operation is to see if a geometry [intersect](http://toblerity.org/shapely/manual.html#object.intersects) or [touches](http://toblerity.org/shapely/manual.html#object.touches) another one. The difference between these two is that:\n",
    "\n",
    "  -  if objects intersect, the boundary and interior of an object needs to intersect in any way with those of the other. \n",
    "  - If an object touches the other one, it is only necessary to have (at least) a single point of their boundaries in common but their interiors shoud NOT intersect.\n",
    "\n",
    "Let's try these out.\n",
    "\n",
    " - Let's create two LineStrings"
   ]
  },
  {
   "cell_type": "code",
   "execution_count": 53,
   "metadata": {},
   "outputs": [],
   "source": [
    "from shapely.geometry import LineString, MultiLineString\n",
    "\n",
    "# Create two lines\n",
    "line_a = LineString([(0, 0), (1, 1)])\n",
    "line_b = LineString([(1, 1), (0, 2)])"
   ]
  },
  {
   "cell_type": "markdown",
   "metadata": {},
   "source": [
    " - Let's see if they intersect"
   ]
  },
  {
   "cell_type": "code",
   "execution_count": 37,
   "metadata": {},
   "outputs": [
    {
     "data": {
      "text/plain": [
       "True"
      ]
     },
     "execution_count": 37,
     "output_type": "execute_result",
     "metadata": {}
    }
   ],
   "source": [
    "line_a.intersects(line_b)"
   ]
  },
  {
   "cell_type": "markdown",
   "metadata": {},
   "source": [
    " - Do they also touch each other?"
   ]
  },
  {
   "cell_type": "code",
   "execution_count": 38,
   "metadata": {},
   "outputs": [
    {
     "data": {
      "text/plain": [
       "True"
      ]
     },
     "execution_count": 38,
     "output_type": "execute_result",
     "metadata": {}
    }
   ],
   "source": [
    "line_a.touches(line_b)"
   ]
  },
  {
   "cell_type": "markdown",
   "metadata": {},
   "source": [
    "Indeed, they do and we can see this by plotting the features together"
   ]
  },
  {
   "cell_type": "code",
   "execution_count": 54,
   "metadata": {},
   "outputs": [
    {
     "data": {
      "image/svg+xml": [
       "<svg xmlns=\"http://www.w3.org/2000/svg\" xmlns:xlink=\"http://www.w3.org/1999/xlink\" width=\"100.0\" height=\"100.0\" viewBox=\"-0.08 -0.08 1.1600000000000001 2.16\" preserveAspectRatio=\"xMinYMin meet\"><g transform=\"matrix(1,0,0,-1,0,2.0)\"><g><polyline fill=\"none\" stroke=\"#66cc99\" stroke-width=\"0.0432\" points=\"0.0,0.0 1.0,1.0\" opacity=\"0.8\" /><polyline fill=\"none\" stroke=\"#66cc99\" stroke-width=\"0.0432\" points=\"1.0,1.0 0.0,2.0\" opacity=\"0.8\" /></g></g></svg>"
      ]
     },
     "metadata": {}
    }
   ],
   "source": [
    "# Create a MultiLineString\n",
    "multi_line = MultiLineString([line_a, line_b])\n",
    "multi_line"
   ]
  },
  {
   "cell_type": "markdown",
   "metadata": {},
   "source": [
    "Thus, the line_b continues from the same node ( (1,1) ) where line_a ends. \n",
    "\n",
    " - However, if the lines overlap fully, they don't touch, as we can see:"
   ]
  },
  {
   "cell_type": "code",
   "execution_count": 57,
   "metadata": {},
   "outputs": [
    {
     "name": "stdout",
     "output_type": "stream",
     "text": [
      "Touches?:  False\n",
      "Intersects?:  True\n"
     ]
    }
   ],
   "source": [
    "# Check if line_a touches itself\n",
    "print(\"Touches?: \", line_a.touches(line_a))\n",
    "\n",
    "# However, it does intersect\n",
    "print(\"Intersects?: \", line_a.intersects(line_a))"
   ]
  }
 ],
 "metadata": {
  "anaconda-cloud": {},
  "kernelspec": {
   "display_name": "Python [conda root]",
   "language": "python",
   "name": "conda-root-py"
  },
  "language_info": {
   "codemirror_mode": {
    "name": "ipython",
    "version": 3.0
   },
   "file_extension": ".py",
   "mimetype": "text/x-python",
   "name": "python",
   "nbconvert_exporter": "python",
   "pygments_lexer": "ipython3",
   "version": "3.5.2"
  }
 },
 "nbformat": 4,
 "nbformat_minor": 1
}