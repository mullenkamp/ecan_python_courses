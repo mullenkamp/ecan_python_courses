{
 "cells": [
  {
   "cell_type": "markdown",
   "metadata": {},
   "source": [
    "# Inspiration: World 3D\n",
    "\n",
    "The purpose of this example is to demonstrate you what is possible to do when doing interactive maps. 3D globe and presenting data on top of such is a nice way to visualize data as it presents the surface of the Earth correctly (unlike e.g. when using Mercator projection).  \n",
    "\n",
    "This is based on [this Folium example](https://github.com/python-visualization/folium/blob/d2c495b871c09dac656b4fc4f8b153e36f1eed14/examples/Hacking_folium_3D_globe.ipynb)\n",
    "\n",
    " - Create couple of classes that makes possible to create the 3D globe. We haven't talked anything about classes in Python during the course, so don't mind if you don't understand what is happening"
   ]
  },
  {
   "cell_type": "code",
   "execution_count": 1,
   "metadata": {
    "collapsed": true
   },
   "outputs": [],
   "source": [
    "import folium\n",
    "from folium.features import Template\n",
    "import geopandas as gpd\n",
    "from fiona.crs import from_epsg\n",
    "\n",
    "\n",
    "class Map3d(folium.Map):\n",
    "\n",
    "    def __init__(self, location=None, width='100%', height='100%', left='0%',\n",
    "                 top='0%', position='relative', tiles='OpenStreetMap', API_key=None,\n",
    "                 max_zoom=18, min_zoom=1, zoom_start=10, attr=None, min_lat=-90,\n",
    "                 max_lat=90, min_lon=-180, max_lon=180, detect_retina=False, crs='EPSG3857'):\n",
    "        super(Map3d, self).__init__(\n",
    "            location=location, width=width, height=height,\n",
    "            left=left, top=top, position=position, tiles=tiles,\n",
    "            API_key=API_key, max_zoom=max_zoom, min_zoom=min_zoom,\n",
    "            zoom_start=zoom_start, attr=attr, min_lat=min_lat,\n",
    "            max_lat=max_lat, min_lon=min_lon, max_lon=max_lon,\n",
    "            detect_retina=detect_retina, crs=crs\n",
    "        )\n",
    "        self._template = Template(u\"\"\"\n",
    "        {% macro header(this, kwargs) %}\n",
    "            <script src=\"https://www.webglearth.com/v2/api.js\"></script>\n",
    "            <style> #{{this.get_name()}} {\n",
    "                position : {{this.position}};\n",
    "                width : {{this.width[0]}}{{this.width[1]}};\n",
    "                height: {{this.height[0]}}{{this.height[1]}};\n",
    "                left: {{this.left[0]}}{{this.left[1]}};\n",
    "                top: {{this.top[0]}}{{this.top[1]}};\n",
    "                }\n",
    "            </style>\n",
    "        {% endmacro %}\n",
    "        {% macro html(this, kwargs) %}\n",
    "            <div class=\"folium-map\" id=\"{{this.get_name()}}\" ></div>\n",
    "        {% endmacro %}\n",
    "\n",
    "        {% macro script(this, kwargs) %}\n",
    "\n",
    "            var southWest = L.latLng({{ this.min_lat }}, {{ this.min_lon }});\n",
    "            var northEast = L.latLng({{ this.max_lat }}, {{ this.max_lon }});\n",
    "            var bounds = L.latLngBounds(southWest, northEast);\n",
    "\n",
    "            var {{this.get_name()}} = WE.map('{{this.get_name()}}', {\n",
    "                                           center:[{{this.location[0]}},{{this.location[1]}}],\n",
    "                                           zoom: {{this.zoom_start}},\n",
    "                                           maxBounds: bounds,\n",
    "                                           layers: [],\n",
    "                                           crs: L.CRS.{{this.crs}}\n",
    "                                         });\n",
    "        {% endmacro %}\n",
    "        \"\"\")\n",
    "\n",
    "\n",
    "class TileLayer3d(folium.TileLayer):\n",
    "\n",
    "    def __init__(self, tiles='OpenStreetMap', min_zoom=1, max_zoom=18, attr=None,\n",
    "                 API_key=None, detect_retina=False, name=None, overlay=False, control=True):\n",
    "        super(TileLayer3d, self).__init__(\n",
    "            tiles=tiles, min_zoom=min_zoom, max_zoom=max_zoom,\n",
    "            attr=attr, API_key=API_key, detect_retina=detect_retina,\n",
    "            name=name, overlay=overlay, control=control\n",
    "        )\n",
    "        self._template = Template(u\"\"\"\n",
    "        {% macro script(this, kwargs) %}\n",
    "            var {{this.get_name()}} = WE.tileLayer(\n",
    "                '{{this.tiles}}',\n",
    "                {\n",
    "                    maxZoom: {{this.max_zoom}},\n",
    "                    minZoom: {{this.min_zoom}},\n",
    "                    attribution: '{{this.attr}}',\n",
    "                    detectRetina: {{this.detect_retina.__str__().lower()}}\n",
    "                    }\n",
    "                ).addTo({{this._parent.get_name()}});\n",
    "\n",
    "        {% endmacro %}\n",
    "        \"\"\")\n",
    "            "
   ]
  },
  {
   "cell_type": "markdown",
   "metadata": {},
   "source": [
    " - Create the globe"
   ]
  },
  {
   "cell_type": "code",
   "execution_count": 8,
   "metadata": {
    "collapsed": false
   },
   "outputs": [
    {
     "data": {
      "text/html": [
       "<div style=\"width:100%;\"><div style=\"position:relative;width:100%;height:0;padding-bottom:60%;\"><iframe src=\"data:text/html;base64,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\" style=\"position:absolute;width:100%;height:100%;left:0;top:0;\" allowfullscreen webkitallowfullscreen mozallowfullscreen></iframe></div></div>"
      ],
      "text/plain": [
       "<__main__.Map3d at 0x986b668>"
      ]
     },
     "execution_count": 8,
     "metadata": {},
     "output_type": "execute_result"
    }
   ],
   "source": [
    "# Initialize the 3D globe \n",
    "m = Map3d(location=[60.25, 24.8], tiles=None, zoom_start=1)\n",
    "\n",
    "# Add a Map Tiles on top of the Globe\n",
    "m.add_child(TileLayer3d(tiles='CartoDB positron'))\n",
    "\n",
    "# Show it\n",
    "m"
   ]
  },
  {
   "cell_type": "markdown",
   "metadata": {},
   "source": [
    "Pretty cool, isn't it! :sunglasses:"
   ]
  }
 ],
 "metadata": {
  "anaconda-cloud": {},
  "kernelspec": {
   "display_name": "Python [conda root]",
   "language": "python",
   "name": "conda-root-py"
  },
  "language_info": {
   "codemirror_mode": {
    "name": "ipython",
    "version": 3
   },
   "file_extension": ".py",
   "mimetype": "text/x-python",
   "name": "python",
   "nbconvert_exporter": "python",
   "pygments_lexer": "ipython3",
   "version": "3.5.2"
  }
 },
 "nbformat": 4,
 "nbformat_minor": 1
}
