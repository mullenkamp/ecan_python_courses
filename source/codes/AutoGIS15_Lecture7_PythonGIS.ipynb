{
 "cells": [
  {
   "cell_type": "markdown",
   "metadata": {},
   "source": [
    "# Automating GIS-processes - Lecture 7: Python GIS"
   ]
  },
  {
   "cell_type": "markdown",
   "metadata": {},
   "source": [
    "## Working with spatial data using Pandas/Geopandas"
   ]
  },
  {
   "cell_type": "markdown",
   "metadata": {},
   "source": [
    "[Geopandas](http://geopandas.org/#description) is a Python module that extends the functionalities of [Pandas](http://pandas.pydata.org/) data analysis library (that takes advantage of [numpy](http://www.numpy.org/) module). Geopandas makes possible to work with spatial data such as Shapefiles. It is also possible to work with rasters using geopandas with [rasterio](https://github.com/mapbox/rasterio) module (see [example](http://gis.stackexchange.com/questions/151339/rasterize-a-shapefile-with-geopandas-or-fiona-python)). \n",
    "\n",
    "### Reading a Shapefile\n",
    "\n",
    "Spatial data can be read easily with geopandas using *gpd.from_file()* function:"
   ]
  },
  {
   "cell_type": "code",
   "execution_count": 1,
   "metadata": {
    "collapsed": false,
    "scrolled": true
   },
   "outputs": [
    {
     "data": {
      "text/html": [
       "<div>\n",
       "<table border=\"1\" class=\"dataframe\">\n",
       "  <thead>\n",
       "    <tr style=\"text-align: right;\">\n",
       "      <th></th>\n",
       "      <th>ORIG_FID</th>\n",
       "      <th>binomial</th>\n",
       "      <th>category</th>\n",
       "      <th>citation</th>\n",
       "      <th>class_name</th>\n",
       "      <th>compiler</th>\n",
       "      <th>dist_comm</th>\n",
       "      <th>family_nam</th>\n",
       "      <th>genus_name</th>\n",
       "      <th>geometry</th>\n",
       "      <th>...</th>\n",
       "      <th>rl_update</th>\n",
       "      <th>seasonal</th>\n",
       "      <th>shape_Area</th>\n",
       "      <th>shape_Leng</th>\n",
       "      <th>source</th>\n",
       "      <th>species_na</th>\n",
       "      <th>subpop</th>\n",
       "      <th>subspecies</th>\n",
       "      <th>tax_comm</th>\n",
       "      <th>year</th>\n",
       "    </tr>\n",
       "  </thead>\n",
       "  <tbody>\n",
       "    <tr>\n",
       "      <th>0</th>\n",
       "      <td>0</td>\n",
       "      <td>Stegastes leucorus</td>\n",
       "      <td>VU</td>\n",
       "      <td>International Union for Conservation of Nature...</td>\n",
       "      <td>ACTINOPTERYGII</td>\n",
       "      <td>IUCN</td>\n",
       "      <td>None</td>\n",
       "      <td>POMACENTRIDAE</td>\n",
       "      <td>Stegastes</td>\n",
       "      <td>POLYGON ((-115.6437454219999 29.71392059300007...</td>\n",
       "      <td>...</td>\n",
       "      <td>2012.1</td>\n",
       "      <td>1</td>\n",
       "      <td>28.239363</td>\n",
       "      <td>82.368856</td>\n",
       "      <td>None</td>\n",
       "      <td>leucorus</td>\n",
       "      <td>None</td>\n",
       "      <td>None</td>\n",
       "      <td>None</td>\n",
       "      <td>2010</td>\n",
       "    </tr>\n",
       "    <tr>\n",
       "      <th>1</th>\n",
       "      <td>0</td>\n",
       "      <td>Stegastes leucorus</td>\n",
       "      <td>VU</td>\n",
       "      <td>International Union for Conservation of Nature...</td>\n",
       "      <td>ACTINOPTERYGII</td>\n",
       "      <td>IUCN</td>\n",
       "      <td>None</td>\n",
       "      <td>POMACENTRIDAE</td>\n",
       "      <td>Stegastes</td>\n",
       "      <td>POLYGON ((-105.589950704 21.89339825500002, -1...</td>\n",
       "      <td>...</td>\n",
       "      <td>2012.1</td>\n",
       "      <td>1</td>\n",
       "      <td>28.239363</td>\n",
       "      <td>82.368856</td>\n",
       "      <td>None</td>\n",
       "      <td>leucorus</td>\n",
       "      <td>None</td>\n",
       "      <td>None</td>\n",
       "      <td>None</td>\n",
       "      <td>2010</td>\n",
       "    </tr>\n",
       "    <tr>\n",
       "      <th>2</th>\n",
       "      <td>0</td>\n",
       "      <td>Stegastes leucorus</td>\n",
       "      <td>VU</td>\n",
       "      <td>International Union for Conservation of Nature...</td>\n",
       "      <td>ACTINOPTERYGII</td>\n",
       "      <td>IUCN</td>\n",
       "      <td>None</td>\n",
       "      <td>POMACENTRIDAE</td>\n",
       "      <td>Stegastes</td>\n",
       "      <td>POLYGON ((-111.159618439 19.01535626700007, -1...</td>\n",
       "      <td>...</td>\n",
       "      <td>2012.1</td>\n",
       "      <td>1</td>\n",
       "      <td>28.239363</td>\n",
       "      <td>82.368856</td>\n",
       "      <td>None</td>\n",
       "      <td>leucorus</td>\n",
       "      <td>None</td>\n",
       "      <td>None</td>\n",
       "      <td>None</td>\n",
       "      <td>2010</td>\n",
       "    </tr>\n",
       "    <tr>\n",
       "      <th>3</th>\n",
       "      <td>1</td>\n",
       "      <td>Chromis intercrusma</td>\n",
       "      <td>LC</td>\n",
       "      <td>International Union for Conservation of Nature...</td>\n",
       "      <td>ACTINOPTERYGII</td>\n",
       "      <td>IUCN</td>\n",
       "      <td>None</td>\n",
       "      <td>POMACENTRIDAE</td>\n",
       "      <td>Chromis</td>\n",
       "      <td>POLYGON ((-80.86500229899997 -0.77894492099994...</td>\n",
       "      <td>...</td>\n",
       "      <td>2012.1</td>\n",
       "      <td>1</td>\n",
       "      <td>87.461539</td>\n",
       "      <td>729.012180</td>\n",
       "      <td>None</td>\n",
       "      <td>intercrusma</td>\n",
       "      <td>None</td>\n",
       "      <td>None</td>\n",
       "      <td>None</td>\n",
       "      <td>2010</td>\n",
       "    </tr>\n",
       "    <tr>\n",
       "      <th>4</th>\n",
       "      <td>1</td>\n",
       "      <td>Chromis intercrusma</td>\n",
       "      <td>LC</td>\n",
       "      <td>International Union for Conservation of Nature...</td>\n",
       "      <td>ACTINOPTERYGII</td>\n",
       "      <td>IUCN</td>\n",
       "      <td>None</td>\n",
       "      <td>POMACENTRIDAE</td>\n",
       "      <td>Chromis</td>\n",
       "      <td>POLYGON ((-67.33922225599997 -55.6761029239999...</td>\n",
       "      <td>...</td>\n",
       "      <td>2012.1</td>\n",
       "      <td>1</td>\n",
       "      <td>87.461539</td>\n",
       "      <td>729.012180</td>\n",
       "      <td>None</td>\n",
       "      <td>intercrusma</td>\n",
       "      <td>None</td>\n",
       "      <td>None</td>\n",
       "      <td>None</td>\n",
       "      <td>2010</td>\n",
       "    </tr>\n",
       "  </tbody>\n",
       "</table>\n",
       "<p>5 rows × 27 columns</p>\n",
       "</div>"
      ],
      "text/plain": [
       "   ORIG_FID             binomial category  \\\n",
       "0         0   Stegastes leucorus       VU   \n",
       "1         0   Stegastes leucorus       VU   \n",
       "2         0   Stegastes leucorus       VU   \n",
       "3         1  Chromis intercrusma       LC   \n",
       "4         1  Chromis intercrusma       LC   \n",
       "\n",
       "                                            citation      class_name compiler  \\\n",
       "0  International Union for Conservation of Nature...  ACTINOPTERYGII     IUCN   \n",
       "1  International Union for Conservation of Nature...  ACTINOPTERYGII     IUCN   \n",
       "2  International Union for Conservation of Nature...  ACTINOPTERYGII     IUCN   \n",
       "3  International Union for Conservation of Nature...  ACTINOPTERYGII     IUCN   \n",
       "4  International Union for Conservation of Nature...  ACTINOPTERYGII     IUCN   \n",
       "\n",
       "  dist_comm     family_nam genus_name  \\\n",
       "0      None  POMACENTRIDAE  Stegastes   \n",
       "1      None  POMACENTRIDAE  Stegastes   \n",
       "2      None  POMACENTRIDAE  Stegastes   \n",
       "3      None  POMACENTRIDAE    Chromis   \n",
       "4      None  POMACENTRIDAE    Chromis   \n",
       "\n",
       "                                            geometry  ...   rl_update  \\\n",
       "0  POLYGON ((-115.6437454219999 29.71392059300007...  ...      2012.1   \n",
       "1  POLYGON ((-105.589950704 21.89339825500002, -1...  ...      2012.1   \n",
       "2  POLYGON ((-111.159618439 19.01535626700007, -1...  ...      2012.1   \n",
       "3  POLYGON ((-80.86500229899997 -0.77894492099994...  ...      2012.1   \n",
       "4  POLYGON ((-67.33922225599997 -55.6761029239999...  ...      2012.1   \n",
       "\n",
       "  seasonal shape_Area  shape_Leng source   species_na subpop  subspecies  \\\n",
       "0        1  28.239363   82.368856   None     leucorus   None        None   \n",
       "1        1  28.239363   82.368856   None     leucorus   None        None   \n",
       "2        1  28.239363   82.368856   None     leucorus   None        None   \n",
       "3        1  87.461539  729.012180   None  intercrusma   None        None   \n",
       "4        1  87.461539  729.012180   None  intercrusma   None        None   \n",
       "\n",
       "   tax_comm  year  \n",
       "0      None  2010  \n",
       "1      None  2010  \n",
       "2      None  2010  \n",
       "3      None  2010  \n",
       "4      None  2010  \n",
       "\n",
       "[5 rows x 27 columns]"
      ]
     },
     "execution_count": 1,
     "metadata": {},
     "output_type": "execute_result"
    }
   ],
   "source": [
    "# Import necessary modules\n",
    "import geopandas as gpd   # geopandas is usually shortened as gpd\n",
    "\n",
    "# Set filepath\n",
    "fp = r\"C:\\HY-Data\\HENTENKA\\Data\\DAMSELFISH_distributions.shp\"\n",
    "\n",
    "# Read file using gpd.read_file()\n",
    "data = gpd.read_file(fp)\n",
    "\n",
    "# Let's see what we got --> print the 'head' of the file (first 5 rows)\n",
    "data.head()"
   ]
  },
  {
   "cell_type": "markdown",
   "metadata": {},
   "source": [
    "\n",
    "### Writing a Shapefile\n",
    "\n",
    "We can select for example 50 rows of the input data and write those into a new Shapefile by first <a href=\"http://pandas.pydata.org/pandas-docs/stable/indexing.html\" target=\"_blank\">selecting the data using pandas functionalities</a> and then writing the selection with *gpd.to_file()* function:"
   ]
  },
  {
   "cell_type": "code",
   "execution_count": 2,
   "metadata": {
    "collapsed": false
   },
   "outputs": [
    {
     "name": "stdout",
     "output_type": "stream",
     "text": [
      "   ORIG_FID             binomial category  \\\n",
      "0         0   Stegastes leucorus       VU   \n",
      "1         0   Stegastes leucorus       VU   \n",
      "2         0   Stegastes leucorus       VU   \n",
      "3         1  Chromis intercrusma       LC   \n",
      "4         1  Chromis intercrusma       LC   \n",
      "\n",
      "                                            citation      class_name compiler  \\\n",
      "0  International Union for Conservation of Nature...  ACTINOPTERYGII     IUCN   \n",
      "1  International Union for Conservation of Nature...  ACTINOPTERYGII     IUCN   \n",
      "2  International Union for Conservation of Nature...  ACTINOPTERYGII     IUCN   \n",
      "3  International Union for Conservation of Nature...  ACTINOPTERYGII     IUCN   \n",
      "4  International Union for Conservation of Nature...  ACTINOPTERYGII     IUCN   \n",
      "\n",
      "  dist_comm     family_nam genus_name  \\\n",
      "0      None  POMACENTRIDAE  Stegastes   \n",
      "1      None  POMACENTRIDAE  Stegastes   \n",
      "2      None  POMACENTRIDAE  Stegastes   \n",
      "3      None  POMACENTRIDAE    Chromis   \n",
      "4      None  POMACENTRIDAE    Chromis   \n",
      "\n",
      "                                            geometry  ...   rl_update  \\\n",
      "0  POLYGON ((-115.6437454219999 29.71392059300007...  ...      2012.1   \n",
      "1  POLYGON ((-105.589950704 21.89339825500002, -1...  ...      2012.1   \n",
      "2  POLYGON ((-111.159618439 19.01535626700007, -1...  ...      2012.1   \n",
      "3  POLYGON ((-80.86500229899997 -0.77894492099994...  ...      2012.1   \n",
      "4  POLYGON ((-67.33922225599997 -55.6761029239999...  ...      2012.1   \n",
      "\n",
      "  seasonal shape_Area  shape_Leng source   species_na subpop  subspecies  \\\n",
      "0        1  28.239363   82.368856   None     leucorus   None        None   \n",
      "1        1  28.239363   82.368856   None     leucorus   None        None   \n",
      "2        1  28.239363   82.368856   None     leucorus   None        None   \n",
      "3        1  87.461539  729.012180   None  intercrusma   None        None   \n",
      "4        1  87.461539  729.012180   None  intercrusma   None        None   \n",
      "\n",
      "   tax_comm  year  \n",
      "0      None  2010  \n",
      "1      None  2010  \n",
      "2      None  2010  \n",
      "3      None  2010  \n",
      "4      None  2010  \n",
      "\n",
      "[5 rows x 27 columns]\n"
     ]
    }
   ],
   "source": [
    "# Create a output path for the data\n",
    "out = r\"C:\\HY-Data\\HENTENKA\\Data\\DAMSELFISH_distributions_SELECTION.shp\"\n",
    "\n",
    "# Select first 50 rows\n",
    "selection = data[0:50]\n",
    "\n",
    "# Print the head of our selection\n",
    "print(selection.head())\n",
    "\n",
    "# Write those rows into a new Shapefile\n",
    "selection.to_file(out, driver=\"ESRI Shapefile\")  # drivers makes it possible to write to different file formats"
   ]
  },
  {
   "cell_type": "markdown",
   "metadata": {},
   "source": [
    "### Geometries in Geopandas"
   ]
  },
  {
   "cell_type": "markdown",
   "metadata": {},
   "source": [
    "Geopandas takes advantage of Shapely's geometric objects. Geometries are stored in a column called *geometry* that is a default column name for storing geometric information in geopandas."
   ]
  },
  {
   "cell_type": "code",
   "execution_count": 3,
   "metadata": {
    "collapsed": false,
    "scrolled": true
   },
   "outputs": [
    {
     "data": {
      "text/plain": [
       "0    POLYGON ((-115.6437454219999 29.71392059300007...\n",
       "1    POLYGON ((-105.589950704 21.89339825500002, -1...\n",
       "2    POLYGON ((-111.159618439 19.01535626700007, -1...\n",
       "3    POLYGON ((-80.86500229899997 -0.77894492099994...\n",
       "4    POLYGON ((-67.33922225599997 -55.6761029239999...\n",
       "Name: geometry, dtype: object"
      ]
     },
     "execution_count": 3,
     "metadata": {},
     "output_type": "execute_result"
    }
   ],
   "source": [
    "# Print first 5 rows of the column 'geometry'\n",
    "# -------------------------------------------\n",
    "\n",
    "# It is possible to use only specific columns by specifying the column name within square brackets []\n",
    "data['geometry'].head()"
   ]
  },
  {
   "cell_type": "markdown",
   "metadata": {},
   "source": [
    "Since spatial data is stored as Shapely objects, __it is possible to use all of the functionalities of Shapely module__ that we practiced earlier:"
   ]
  },
  {
   "cell_type": "code",
   "execution_count": 4,
   "metadata": {
    "collapsed": false
   },
   "outputs": [
    {
     "name": "stdout",
     "output_type": "stream",
     "text": [
      "Polygon area at index 0 is: 19.39625403004423\n",
      "Polygon area at index 1 is: 6.145902112999523\n",
      "Polygon area at index 2 is: 2.6972072716440176\n",
      "Polygon area at index 3 is: 87.46062072709621\n",
      "Polygon area at index 4 is: 0.0009183696153124292\n"
     ]
    }
   ],
   "source": [
    "# Print the areas of the first 5 polygons\n",
    "# ---------------------------------------\n",
    "\n",
    "# Make a selection that contains only the first five rows\n",
    "selection = data[0:5]\n",
    "\n",
    "# Iterate over the selected rows by using a for loop in a pandas function called '.iterrows()'\n",
    "for row_num, row in selection.iterrows():\n",
    "    # Calculate the area of the polygon\n",
    "    poly_area = row['geometry'].area\n",
    "    # Print information for the user\n",
    "    print(\"Polygon area at index %s is: %s\" % (row_num, poly_area))\n",
    "    \n",
    "# Outputs:"
   ]
  },
  {
   "cell_type": "markdown",
   "metadata": {
    "collapsed": true
   },
   "source": [
    "### Creating GeoDataFrame and exporting it to Shapefile\n",
    "\n",
    "Since geopandas takes advantage of Shapely geometric objects it is possible to create a Shapefile from a scratch or using e.g. a text file that contains coordinates. \n",
    "\n",
    "Let's create an empty *GeoDataFrame* that is a *Two-dimensional size-mutable, potentially heterogeneous tabular data structure with labeled axes* --> i.e. it is a similar thing as attribute table that also contains geometries. GeoDataFrame extends the functionalities of pandas.DataFrame() in a way that it is possible to use spatial data within pandas (hence the name geopandas). "
   ]
  },
  {
   "cell_type": "code",
   "execution_count": 2,
   "metadata": {
    "collapsed": false
   },
   "outputs": [
    {
     "name": "stdout",
     "output_type": "stream",
     "text": [
      "Empty GeoDataFrame\n",
      "Columns: []\n",
      "Index: []\n"
     ]
    }
   ],
   "source": [
    "# Import necessary modules first\n",
    "import pandas as pd\n",
    "import geopandas as gpd\n",
    "from shapely.geometry import Point, Polygon\n",
    "import fiona\n",
    "\n",
    "# Create an empty geopandas GeoDataFrame\n",
    "data = gpd.GeoDataFrame()\n",
    "\n",
    "# Let's see what's inside\n",
    "print(data)\n",
    "\n",
    "# Outputs:"
   ]
  },
  {
   "cell_type": "markdown",
   "metadata": {},
   "source": [
    "The GeoDataFrame is empty since we haven't places any data inside. Let's create a new column called *geometry* that will contain our Shapely Geometric Object:"
   ]
  },
  {
   "cell_type": "code",
   "execution_count": 3,
   "metadata": {
    "collapsed": false
   },
   "outputs": [
    {
     "data": {
      "text/html": [
       "<div>\n",
       "<table border=\"1\" class=\"dataframe\">\n",
       "  <thead>\n",
       "    <tr style=\"text-align: right;\">\n",
       "      <th></th>\n",
       "      <th>geometry</th>\n",
       "    </tr>\n",
       "  </thead>\n",
       "  <tbody>\n",
       "  </tbody>\n",
       "</table>\n",
       "</div>"
      ],
      "text/plain": [
       "Empty GeoDataFrame\n",
       "Columns: [geometry]\n",
       "Index: []"
      ]
     },
     "execution_count": 3,
     "metadata": {},
     "output_type": "execute_result"
    }
   ],
   "source": [
    "# Create a new column called 'geometry' to the GeoDataFrame\n",
    "data['geometry'] = None\n",
    "\n",
    "# Let's see what's inside\n",
    "data\n",
    "\n",
    "# Outputs:"
   ]
  },
  {
   "cell_type": "markdown",
   "metadata": {},
   "source": [
    "Now we have a geometry column in the GeoDataFrame but we don't have any data yet. Let's create a Shapely Polygon that we can insert to our GeoDataFrame:"
   ]
  },
  {
   "cell_type": "code",
   "execution_count": 4,
   "metadata": {
    "collapsed": false
   },
   "outputs": [
    {
     "name": "stdout",
     "output_type": "stream",
     "text": [
      "POLYGON ((24.950899 60.169158, 24.953492 60.169158, 24.95351 60.170104, 24.950958 60.16999, 24.950899 60.169158))\n"
     ]
    }
   ],
   "source": [
    "# Create a Shapely Polygon that has coordinates in WGS84 projection (i.e. lat, lon)\n",
    "\n",
    "# Coordinates are corner coordinates of Senaatintori in Helsinki\n",
    "coordinates = [(24.950899, 60.169158), (24.953492, 60.169158), (24.953510, 60.170104), (24.950958, 60.169990)]\n",
    "\n",
    "# Create a Shapely polygon from the coordinate-tuple list\n",
    "poly = Polygon(coordinates)\n",
    "\n",
    "# Let's see that we really have a polygon\n",
    "print(poly)\n",
    "\n",
    "# Outputs:"
   ]
  },
  {
   "cell_type": "markdown",
   "metadata": {},
   "source": [
    "Now we need to insert that polygon into the column 'geometry' of our GeoDataFrame:"
   ]
  },
  {
   "cell_type": "code",
   "execution_count": 5,
   "metadata": {
    "collapsed": false
   },
   "outputs": [
    {
     "data": {
      "text/html": [
       "<div>\n",
       "<table border=\"1\" class=\"dataframe\">\n",
       "  <thead>\n",
       "    <tr style=\"text-align: right;\">\n",
       "      <th></th>\n",
       "      <th>geometry</th>\n",
       "    </tr>\n",
       "  </thead>\n",
       "  <tbody>\n",
       "    <tr>\n",
       "      <th>0</th>\n",
       "      <td>POLYGON ((24.950899 60.169158, 24.953492 60.16...</td>\n",
       "    </tr>\n",
       "  </tbody>\n",
       "</table>\n",
       "</div>"
      ],
      "text/plain": [
       "                                            geometry\n",
       "0  POLYGON ((24.950899 60.169158, 24.953492 60.16..."
      ]
     },
     "execution_count": 5,
     "metadata": {},
     "output_type": "execute_result"
    }
   ],
   "source": [
    "# Insert the polygon to the GeoDataFrame\n",
    "data['geometry'] = [poly]\n",
    "\n",
    "# Print out the data\n",
    "data\n",
    "\n",
    "# Outputs:"
   ]
  },
  {
   "cell_type": "markdown",
   "metadata": {
    "collapsed": true
   },
   "source": [
    "Now we have a GeoDataFrame with Polygon that we can export to a Shapefile. Let's add another column to our GeoDataFrame called *Location* with text *Senaatintori*."
   ]
  },
  {
   "cell_type": "code",
   "execution_count": 6,
   "metadata": {
    "collapsed": false
   },
   "outputs": [
    {
     "data": {
      "text/html": [
       "<div>\n",
       "<table border=\"1\" class=\"dataframe\">\n",
       "  <thead>\n",
       "    <tr style=\"text-align: right;\">\n",
       "      <th></th>\n",
       "      <th>geometry</th>\n",
       "      <th>Location</th>\n",
       "    </tr>\n",
       "  </thead>\n",
       "  <tbody>\n",
       "    <tr>\n",
       "      <th>0</th>\n",
       "      <td>POLYGON ((24.950899 60.169158, 24.953492 60.16...</td>\n",
       "      <td>Senaatintori</td>\n",
       "    </tr>\n",
       "  </tbody>\n",
       "</table>\n",
       "</div>"
      ],
      "text/plain": [
       "                                            geometry      Location\n",
       "0  POLYGON ((24.950899 60.169158, 24.953492 60.16...  Senaatintori"
      ]
     },
     "execution_count": 6,
     "metadata": {},
     "output_type": "execute_result"
    }
   ],
   "source": [
    "# Add a new column and insert data\n",
    "data['Location'] = ['Senaatintori']\n",
    "\n",
    "# Print out the data\n",
    "data\n",
    "\n",
    "# Outputs"
   ]
  },
  {
   "cell_type": "markdown",
   "metadata": {},
   "source": [
    "Before exporting the data it is useful to __determine the projection for the GeoDataFrame.__\n",
    "\n",
    "GeoDataFrame has a property called *.crs* that shows the coordinatesystem of the data which is empty in our case since we are creating the data from the scratch. If you import a Shapefile into geopandas that has a defined projection, the crs of the GeoDataFrame will automatically be the one of that Shapefile. \n",
    "\n",
    "A Python module called *fiona* has a nice function called *from_epsg* for passing coordinate system for the GeoDataFrame. Next we will use that and determine the projection to WGS84 (epsg code: 4326):"
   ]
  },
  {
   "cell_type": "code",
   "execution_count": 7,
   "metadata": {
    "collapsed": false
   },
   "outputs": [
    {
     "name": "stdout",
     "output_type": "stream",
     "text": [
      "None\n"
     ]
    }
   ],
   "source": [
    "# Check the current coordinate system\n",
    "print(data.crs)\n",
    "\n",
    "# Outputs:"
   ]
  },
  {
   "cell_type": "code",
   "execution_count": 8,
   "metadata": {
    "collapsed": false
   },
   "outputs": [
    {
     "data": {
      "text/plain": [
       "{'init': 'epsg:4326', 'no_defs': True}"
      ]
     },
     "execution_count": 8,
     "metadata": {},
     "output_type": "execute_result"
    }
   ],
   "source": [
    "# Import specific function 'from_epsg' from fiona module\n",
    "from fiona.crs import from_epsg\n",
    "\n",
    "# Set the GeoDataFrame's coordinate system to WGS84\n",
    "data.crs = from_epsg(4326)\n",
    "\n",
    "# Let's see how the crs definition looks like\n",
    "data.crs"
   ]
  },
  {
   "cell_type": "markdown",
   "metadata": {},
   "source": [
    "Finally, we can export the data using GeoDataFrames *.to_file* function. "
   ]
  },
  {
   "cell_type": "code",
   "execution_count": 9,
   "metadata": {
    "collapsed": true
   },
   "outputs": [],
   "source": [
    "# Determine the output path for the Shapefile\n",
    "out = r\"C:\\HY-Data\\HENTENKA\\Data\\Senaatintori.shp\"\n",
    "\n",
    "# Write the data into that location\n",
    "data.to_file(out)\n"
   ]
  },
  {
   "cell_type": "markdown",
   "metadata": {},
   "source": [
    "Now we have successfully created a Shapefile from the scratch using only Python programming. Similar approach can be used to for example to read coordinates from a text file (e.g. points) and create Shapefiles from those automatically. "
   ]
  },
  {
   "cell_type": "markdown",
   "metadata": {},
   "source": [
    "## Extra - Create an interactive visualization using bokeh\n",
    "\n",
    "Following lines of code demonstrate how we can create an interactive map of our Polygon geometry on top of Google Maps using bokeh module. See the result at the end of this page, you can zoom in/out and also move around the map.\n",
    "\n",
    "In the GIS-lab computers bokeh module is not installed, so unfortunately at the moment it is not possible for you to test this yourself."
   ]
  },
  {
   "cell_type": "code",
   "execution_count": 10,
   "metadata": {
    "collapsed": false,
    "scrolled": false
   },
   "outputs": [
    {
     "data": {
      "text/html": [
       "\n",
       "    <div class=\"bk-root\">\n",
       "        <a href=\"http://bokeh.pydata.org\" target=\"_blank\" class=\"bk-logo bk-logo-small bk-logo-notebook\"></a>\n",
       "        <span id=\"92dbe476-557e-486c-bd8a-250c051c17db\">Loading BokehJS ...</span>\n",
       "    </div>"
      ]
     },
     "metadata": {},
     "output_type": "display_data"
    },
    {
     "data": {
      "application/javascript": [
       "\n",
       "(function(global) {\n",
       "  function now() {\n",
       "    return new Date();\n",
       "  }\n",
       "\n",
       "  var force = \"1\";\n",
       "\n",
       "  if (typeof (window._bokeh_onload_callbacks) === \"undefined\" || force !== \"\") {\n",
       "    window._bokeh_onload_callbacks = [];\n",
       "    window._bokeh_is_loading = undefined;\n",
       "  }\n",
       "\n",
       "\n",
       "  \n",
       "  if (typeof (window._bokeh_timeout) === \"undefined\" || force !== \"\") {\n",
       "    window._bokeh_timeout = Date.now() + 5000;\n",
       "    window._bokeh_failed_load = false;\n",
       "  }\n",
       "\n",
       "  var NB_LOAD_WARNING = {'data': {'text/html':\n",
       "     \"<div style='background-color: #fdd'>\\n\"+\n",
       "     \"<p>\\n\"+\n",
       "     \"BokehJS does not appear to have successfully loaded. If loading BokehJS from CDN, this \\n\"+\n",
       "     \"may be due to a slow or bad network connection. Possible fixes:\\n\"+\n",
       "     \"</p>\\n\"+\n",
       "     \"<ul>\\n\"+\n",
       "     \"<li>re-rerun `output_notebook()` to attempt to load from CDN again, or</li>\\n\"+\n",
       "     \"<li>use INLINE resources instead, as so:</li>\\n\"+\n",
       "     \"</ul>\\n\"+\n",
       "     \"<code>\\n\"+\n",
       "     \"from bokeh.resources import INLINE\\n\"+\n",
       "     \"output_notebook(resources=INLINE)\\n\"+\n",
       "     \"</code>\\n\"+\n",
       "     \"</div>\"}};\n",
       "\n",
       "  function display_loaded() {\n",
       "    if (window.Bokeh !== undefined) {\n",
       "      Bokeh.$(\"#92dbe476-557e-486c-bd8a-250c051c17db\").text(\"BokehJS successfully loaded.\");\n",
       "    } else if (Date.now() < window._bokeh_timeout) {\n",
       "      setTimeout(display_loaded, 100)\n",
       "    }\n",
       "  }\n",
       "\n",
       "  function run_callbacks() {\n",
       "    window._bokeh_onload_callbacks.forEach(function(callback) { callback() });\n",
       "    delete window._bokeh_onload_callbacks\n",
       "    console.info(\"Bokeh: all callbacks have finished\");\n",
       "  }\n",
       "\n",
       "  function load_libs(js_urls, callback) {\n",
       "    window._bokeh_onload_callbacks.push(callback);\n",
       "    if (window._bokeh_is_loading > 0) {\n",
       "      console.log(\"Bokeh: BokehJS is being loaded, scheduling callback at\", now());\n",
       "      return null;\n",
       "    }\n",
       "    if (js_urls == null || js_urls.length === 0) {\n",
       "      run_callbacks();\n",
       "      return null;\n",
       "    }\n",
       "    console.log(\"Bokeh: BokehJS not loaded, scheduling load and callback at\", now());\n",
       "    window._bokeh_is_loading = js_urls.length;\n",
       "    for (var i = 0; i < js_urls.length; i++) {\n",
       "      var url = js_urls[i];\n",
       "      var s = document.createElement('script');\n",
       "      s.src = url;\n",
       "      s.async = false;\n",
       "      s.onreadystatechange = s.onload = function() {\n",
       "        window._bokeh_is_loading--;\n",
       "        if (window._bokeh_is_loading === 0) {\n",
       "          console.log(\"Bokeh: all BokehJS libraries loaded\");\n",
       "          run_callbacks()\n",
       "        }\n",
       "      };\n",
       "      s.onerror = function() {\n",
       "        console.warn(\"failed to load library \" + url);\n",
       "      };\n",
       "      console.log(\"Bokeh: injecting script tag for BokehJS library: \", url);\n",
       "      document.getElementsByTagName(\"head\")[0].appendChild(s);\n",
       "    }\n",
       "  };var element = document.getElementById(\"92dbe476-557e-486c-bd8a-250c051c17db\");\n",
       "  if (element == null) {\n",
       "    console.log(\"Bokeh: ERROR: autoload.js configured with elementid '92dbe476-557e-486c-bd8a-250c051c17db' but no matching script tag was found. \")\n",
       "    return false;\n",
       "  }\n",
       "\n",
       "  var js_urls = ['https://cdn.pydata.org/bokeh/release/bokeh-0.12.2.min.js', 'https://cdn.pydata.org/bokeh/release/bokeh-widgets-0.12.2.min.js', 'https://cdn.pydata.org/bokeh/release/bokeh-compiler-0.12.2.min.js'];\n",
       "\n",
       "  var inline_js = [\n",
       "    function(Bokeh) {\n",
       "      Bokeh.set_log_level(\"info\");\n",
       "    },\n",
       "    \n",
       "    function(Bokeh) {\n",
       "      \n",
       "      Bokeh.$(\"#92dbe476-557e-486c-bd8a-250c051c17db\").text(\"BokehJS is loading...\");\n",
       "    },\n",
       "    function(Bokeh) {\n",
       "      console.log(\"Bokeh: injecting CSS: https://cdn.pydata.org/bokeh/release/bokeh-0.12.2.min.css\");\n",
       "      Bokeh.embed.inject_css(\"https://cdn.pydata.org/bokeh/release/bokeh-0.12.2.min.css\");\n",
       "      console.log(\"Bokeh: injecting CSS: https://cdn.pydata.org/bokeh/release/bokeh-widgets-0.12.2.min.css\");\n",
       "      Bokeh.embed.inject_css(\"https://cdn.pydata.org/bokeh/release/bokeh-widgets-0.12.2.min.css\");\n",
       "    }\n",
       "  ];\n",
       "\n",
       "  function run_inline_js() {\n",
       "    \n",
       "    if ((window.Bokeh !== undefined) || (force === \"1\")) {\n",
       "      for (var i = 0; i < inline_js.length; i++) {\n",
       "        inline_js[i](window.Bokeh);\n",
       "      }if (force === \"1\") {\n",
       "        display_loaded();\n",
       "      }} else if (Date.now() < window._bokeh_timeout) {\n",
       "      setTimeout(run_inline_js, 100);\n",
       "    } else if (!window._bokeh_failed_load) {\n",
       "      console.log(\"Bokeh: BokehJS failed to load within specified timeout.\");\n",
       "      window._bokeh_failed_load = true;\n",
       "    } else if (!force) {\n",
       "      var cell = $(\"#92dbe476-557e-486c-bd8a-250c051c17db\").parents('.cell').data().cell;\n",
       "      cell.output_area.append_execute_result(NB_LOAD_WARNING)\n",
       "    }\n",
       "\n",
       "  }\n",
       "\n",
       "  if (window._bokeh_is_loading === 0) {\n",
       "    console.log(\"Bokeh: BokehJS loaded, going straight to plotting\");\n",
       "    run_inline_js();\n",
       "  } else {\n",
       "    load_libs(js_urls, function() {\n",
       "      console.log(\"Bokeh: BokehJS plotting callback run at\", now());\n",
       "      run_inline_js();\n",
       "    });\n",
       "  }\n",
       "}(this));"
      ]
     },
     "metadata": {},
     "output_type": "display_data"
    },
    {
     "name": "stderr",
     "output_type": "stream",
     "text": [
      "C:\\HYapp\\Anaconda3\\lib\\site-packages\\bokeh\\core\\properties.py:1941: UserWarning: Setting Plot property 'title' using a string was deprecated in 0.12.0,\n",
      "            and will be removed. The title is now an object on Plot (which holds all of it's\n",
      "            styling properties). Please use Plot.title.text instead.\n",
      "\n",
      "            SERVER USERS: If you were using plot.title to have the server update the plot title\n",
      "            in a callback, you MUST update to plot.title.text as the title object cannot currently\n",
      "            be replaced after intialization.\n",
      "            \n",
      "  \"\"\")\n"
     ]
    },
    {
     "data": {
      "text/html": [
       "\n",
       "\n",
       "    <div class=\"bk-root\">\n",
       "        <div class=\"plotdiv\" id=\"b8188dbe-23b8-4794-bfd6-7553e53ac10a\"></div>\n",
       "    </div>\n",
       "<script type=\"text/javascript\">\n",
       "  \n",
       "  (function(global) {\n",
       "    function now() {\n",
       "      return new Date();\n",
       "    }\n",
       "  \n",
       "    var force = \"\";\n",
       "  \n",
       "    if (typeof (window._bokeh_onload_callbacks) === \"undefined\" || force !== \"\") {\n",
       "      window._bokeh_onload_callbacks = [];\n",
       "      window._bokeh_is_loading = undefined;\n",
       "    }\n",
       "  \n",
       "  \n",
       "    \n",
       "    if (typeof (window._bokeh_timeout) === \"undefined\" || force !== \"\") {\n",
       "      window._bokeh_timeout = Date.now() + 0;\n",
       "      window._bokeh_failed_load = false;\n",
       "    }\n",
       "  \n",
       "    var NB_LOAD_WARNING = {'data': {'text/html':\n",
       "       \"<div style='background-color: #fdd'>\\n\"+\n",
       "       \"<p>\\n\"+\n",
       "       \"BokehJS does not appear to have successfully loaded. If loading BokehJS from CDN, this \\n\"+\n",
       "       \"may be due to a slow or bad network connection. Possible fixes:\\n\"+\n",
       "       \"</p>\\n\"+\n",
       "       \"<ul>\\n\"+\n",
       "       \"<li>re-rerun `output_notebook()` to attempt to load from CDN again, or</li>\\n\"+\n",
       "       \"<li>use INLINE resources instead, as so:</li>\\n\"+\n",
       "       \"</ul>\\n\"+\n",
       "       \"<code>\\n\"+\n",
       "       \"from bokeh.resources import INLINE\\n\"+\n",
       "       \"output_notebook(resources=INLINE)\\n\"+\n",
       "       \"</code>\\n\"+\n",
       "       \"</div>\"}};\n",
       "  \n",
       "    function display_loaded() {\n",
       "      if (window.Bokeh !== undefined) {\n",
       "        Bokeh.$(\"#b8188dbe-23b8-4794-bfd6-7553e53ac10a\").text(\"BokehJS successfully loaded.\");\n",
       "      } else if (Date.now() < window._bokeh_timeout) {\n",
       "        setTimeout(display_loaded, 100)\n",
       "      }\n",
       "    }\n",
       "  \n",
       "    function run_callbacks() {\n",
       "      window._bokeh_onload_callbacks.forEach(function(callback) { callback() });\n",
       "      delete window._bokeh_onload_callbacks\n",
       "      console.info(\"Bokeh: all callbacks have finished\");\n",
       "    }\n",
       "  \n",
       "    function load_libs(js_urls, callback) {\n",
       "      window._bokeh_onload_callbacks.push(callback);\n",
       "      if (window._bokeh_is_loading > 0) {\n",
       "        console.log(\"Bokeh: BokehJS is being loaded, scheduling callback at\", now());\n",
       "        return null;\n",
       "      }\n",
       "      if (js_urls == null || js_urls.length === 0) {\n",
       "        run_callbacks();\n",
       "        return null;\n",
       "      }\n",
       "      console.log(\"Bokeh: BokehJS not loaded, scheduling load and callback at\", now());\n",
       "      window._bokeh_is_loading = js_urls.length;\n",
       "      for (var i = 0; i < js_urls.length; i++) {\n",
       "        var url = js_urls[i];\n",
       "        var s = document.createElement('script');\n",
       "        s.src = url;\n",
       "        s.async = false;\n",
       "        s.onreadystatechange = s.onload = function() {\n",
       "          window._bokeh_is_loading--;\n",
       "          if (window._bokeh_is_loading === 0) {\n",
       "            console.log(\"Bokeh: all BokehJS libraries loaded\");\n",
       "            run_callbacks()\n",
       "          }\n",
       "        };\n",
       "        s.onerror = function() {\n",
       "          console.warn(\"failed to load library \" + url);\n",
       "        };\n",
       "        console.log(\"Bokeh: injecting script tag for BokehJS library: \", url);\n",
       "        document.getElementsByTagName(\"head\")[0].appendChild(s);\n",
       "      }\n",
       "    };var element = document.getElementById(\"b8188dbe-23b8-4794-bfd6-7553e53ac10a\");\n",
       "    if (element == null) {\n",
       "      console.log(\"Bokeh: ERROR: autoload.js configured with elementid 'b8188dbe-23b8-4794-bfd6-7553e53ac10a' but no matching script tag was found. \")\n",
       "      return false;\n",
       "    }\n",
       "  \n",
       "    var js_urls = [];\n",
       "  \n",
       "    var inline_js = [\n",
       "      function(Bokeh) {\n",
       "        Bokeh.$(function() {\n",
       "            var docs_json = {\"34929e82-ffa7-48ca-b873-2e2943864844\":{\"roots\":{\"references\":[{\"attributes\":{\"data_source\":{\"id\":\"8a1e1944-0b30-427c-83f1-819c5fe7bb72\",\"type\":\"ColumnDataSource\"},\"glyph\":{\"id\":\"8039fe93-8dd6-4860-85fc-95f1cf30b198\",\"type\":\"Patch\"},\"hover_glyph\":null,\"nonselection_glyph\":null,\"selection_glyph\":null},\"id\":\"9f4845aa-82cc-4cd7-b276-5ecd6ac8eb2e\",\"type\":\"GlyphRenderer\"},{\"attributes\":{},\"id\":\"f5890e2c-8a6d-49ba-8a9b-48ca268c063f\",\"type\":\"ToolEvents\"},{\"attributes\":{\"bottom_units\":\"screen\",\"fill_alpha\":{\"value\":0.5},\"fill_color\":{\"value\":\"lightgrey\"},\"left_units\":\"screen\",\"level\":\"overlay\",\"line_alpha\":{\"value\":1.0},\"line_color\":{\"value\":\"black\"},\"line_dash\":[4,4],\"line_width\":{\"value\":2},\"plot\":null,\"render_mode\":\"css\",\"right_units\":\"screen\",\"top_units\":\"screen\"},\"id\":\"5b95acea-50e5-4951-9c4e-cd909c603b7f\",\"type\":\"BoxAnnotation\"},{\"attributes\":{\"callback\":null,\"overlay\":{\"id\":\"5b95acea-50e5-4951-9c4e-cd909c603b7f\",\"type\":\"BoxAnnotation\"},\"plot\":{\"id\":\"8cf75725-fac0-4ce6-bf8a-4e1cefdaac92\",\"type\":\"GMapPlot\"}},\"id\":\"2a338133-97bf-48d9-9a83-4277a11aad05\",\"type\":\"BoxSelectTool\"},{\"attributes\":{\"plot\":null,\"text\":\"Helsinki - Senaatintori\"},\"id\":\"1261afdb-3b96-452b-8af5-a414cc353b40\",\"type\":\"Title\"},{\"attributes\":{\"callback\":null,\"end\":25.0,\"start\":24.9},\"id\":\"f5b1a5e0-6df8-482d-b2fb-9bb7d0416839\",\"type\":\"Range1d\"},{\"attributes\":{\"plot\":{\"id\":\"8cf75725-fac0-4ce6-bf8a-4e1cefdaac92\",\"type\":\"GMapPlot\"}},\"id\":\"e3c8722c-5ee6-4429-951e-f8e957c76734\",\"type\":\"ResizeTool\"},{\"attributes\":{\"callback\":null,\"end\":60.2,\"start\":60.15},\"id\":\"f7f9526c-ff48-4e8f-8a8e-ddfd12feba38\",\"type\":\"Range1d\"},{\"attributes\":{\"map_options\":{\"lat\":60.17,\"lng\":24.952,\"map_type\":\"roadmap\",\"zoom\":15},\"plot_height\":500,\"plot_width\":500,\"renderers\":[{\"id\":\"9f4845aa-82cc-4cd7-b276-5ecd6ac8eb2e\",\"type\":\"GlyphRenderer\"},{\"id\":\"5b95acea-50e5-4951-9c4e-cd909c603b7f\",\"type\":\"BoxAnnotation\"}],\"title\":{\"id\":\"1261afdb-3b96-452b-8af5-a414cc353b40\",\"type\":\"Title\"},\"tool_events\":{\"id\":\"f5890e2c-8a6d-49ba-8a9b-48ca268c063f\",\"type\":\"ToolEvents\"},\"toolbar\":{\"id\":\"f1c7ae64-882f-4f0f-a497-6ce36699f00b\",\"type\":\"Toolbar\"},\"x_range\":{\"id\":\"f5b1a5e0-6df8-482d-b2fb-9bb7d0416839\",\"type\":\"Range1d\"},\"y_range\":{\"id\":\"f7f9526c-ff48-4e8f-8a8e-ddfd12feba38\",\"type\":\"Range1d\"}},\"id\":\"8cf75725-fac0-4ce6-bf8a-4e1cefdaac92\",\"type\":\"GMapPlot\"},{\"attributes\":{\"active_drag\":\"auto\",\"active_scroll\":\"auto\",\"active_tap\":\"auto\",\"tools\":[{\"id\":\"e1765f0a-90f1-49c6-846b-84c8f2672221\",\"type\":\"PanTool\"},{\"id\":\"e28f728e-9ebb-4cc8-b718-321318eea26e\",\"type\":\"WheelZoomTool\"},{\"id\":\"e3c8722c-5ee6-4429-951e-f8e957c76734\",\"type\":\"ResizeTool\"},{\"id\":\"2a338133-97bf-48d9-9a83-4277a11aad05\",\"type\":\"BoxSelectTool\"}]},\"id\":\"f1c7ae64-882f-4f0f-a497-6ce36699f00b\",\"type\":\"Toolbar\"},{\"attributes\":{\"fill_alpha\":{\"value\":0.8},\"fill_color\":{\"value\":\"#DE2D26\"},\"x\":{\"field\":\"lon\"},\"y\":{\"field\":\"lat\"}},\"id\":\"8039fe93-8dd6-4860-85fc-95f1cf30b198\",\"type\":\"Patch\"},{\"attributes\":{\"plot\":{\"id\":\"8cf75725-fac0-4ce6-bf8a-4e1cefdaac92\",\"type\":\"GMapPlot\"}},\"id\":\"e28f728e-9ebb-4cc8-b718-321318eea26e\",\"type\":\"WheelZoomTool\"},{\"attributes\":{\"plot\":{\"id\":\"8cf75725-fac0-4ce6-bf8a-4e1cefdaac92\",\"type\":\"GMapPlot\"}},\"id\":\"e1765f0a-90f1-49c6-846b-84c8f2672221\",\"type\":\"PanTool\"},{\"attributes\":{\"callback\":null,\"column_names\":[\"lat\",\"lon\"],\"data\":{\"lat\":[60.169158,60.169158,60.170104,60.16999,60.169158],\"lon\":[24.950899,24.953492,24.95351,24.950958,24.950899]}},\"id\":\"8a1e1944-0b30-427c-83f1-819c5fe7bb72\",\"type\":\"ColumnDataSource\"}],\"root_ids\":[\"8cf75725-fac0-4ce6-bf8a-4e1cefdaac92\"]},\"title\":\"Bokeh Application\",\"version\":\"0.12.2\"}};\n",
       "            var render_items = [{\"docid\":\"34929e82-ffa7-48ca-b873-2e2943864844\",\"elementid\":\"b8188dbe-23b8-4794-bfd6-7553e53ac10a\",\"modelid\":\"8cf75725-fac0-4ce6-bf8a-4e1cefdaac92\"}];\n",
       "            \n",
       "            Bokeh.embed.embed_items(docs_json, render_items);\n",
       "        });\n",
       "      },\n",
       "      function(Bokeh) {\n",
       "      }\n",
       "    ];\n",
       "  \n",
       "    function run_inline_js() {\n",
       "      \n",
       "      if ((window.Bokeh !== undefined) || (force === \"1\")) {\n",
       "        for (var i = 0; i < inline_js.length; i++) {\n",
       "          inline_js[i](window.Bokeh);\n",
       "        }if (force === \"1\") {\n",
       "          display_loaded();\n",
       "        }} else if (Date.now() < window._bokeh_timeout) {\n",
       "        setTimeout(run_inline_js, 100);\n",
       "      } else if (!window._bokeh_failed_load) {\n",
       "        console.log(\"Bokeh: BokehJS failed to load within specified timeout.\");\n",
       "        window._bokeh_failed_load = true;\n",
       "      } else if (!force) {\n",
       "        var cell = $(\"#b8188dbe-23b8-4794-bfd6-7553e53ac10a\").parents('.cell').data().cell;\n",
       "        cell.output_area.append_execute_result(NB_LOAD_WARNING)\n",
       "      }\n",
       "  \n",
       "    }\n",
       "  \n",
       "    if (window._bokeh_is_loading === 0) {\n",
       "      console.log(\"Bokeh: BokehJS loaded, going straight to plotting\");\n",
       "      run_inline_js();\n",
       "    } else {\n",
       "      load_libs(js_urls, function() {\n",
       "        console.log(\"Bokeh: BokehJS plotting callback run at\", now());\n",
       "        run_inline_js();\n",
       "      });\n",
       "    }\n",
       "  }(this));\n",
       "</script>"
      ]
     },
     "metadata": {},
     "output_type": "display_data"
    }
   ],
   "source": [
    "# Import bokeh stuff to visualize our map\n",
    "from bokeh.models.glyphs import Patch\n",
    "from bokeh.plotting import figure, show, output_notebook\n",
    "from bokeh.models import GMapPlot, Range1d, ColumnDataSource, PanTool, WheelZoomTool, BoxSelectTool, GMapOptions, ResizeTool\n",
    "\n",
    "# Plot the data using bokeh - Initialize\n",
    "output_notebook()\n",
    "\n",
    "# Parse coordinates from the GeoDataFrames first row [i.e. index --> 0]\n",
    "x_coords, y_coords = x, y = data['geometry'].values[0].exterior.coords.xy\n",
    "\n",
    "# Set the ranges for the map (\"how far the user can go\")\n",
    "x_range = Range1d(24.9, 25.0)\n",
    "y_range = Range1d(60.15, 60.2)\n",
    "\n",
    "# Set the Google Maps to Helsinki\n",
    "map_options = GMapOptions(lat=60.17, lng=24.952, map_type=\"roadmap\", zoom=15)\n",
    "\n",
    "# Create an interactive Google map to Helsinki\n",
    "plot = GMapPlot(\n",
    "    x_range=x_range, y_range=y_range,\n",
    "    map_options=map_options,\n",
    "    title = \"Helsinki - Senaatintori\",\n",
    "    plot_width=500,\n",
    "    plot_height=500\n",
    ")\n",
    "\n",
    "# Create a Data source\n",
    "source = ColumnDataSource(\n",
    "    data=dict(\n",
    "        lat=y_coords,\n",
    "        lon=x_coords\n",
    "    )\n",
    ")\n",
    "\n",
    "# Create the Patch i.e. the polygon\n",
    "poly_patch = Patch(x=\"lon\",y=\"lat\", fill_color='#DE2D26', fill_alpha=0.8)\n",
    "\n",
    "# Add Polygon Patch on top of the map\n",
    "plot.add_glyph(source, poly_patch)\n",
    "\n",
    "# Add tools\n",
    "plot.add_tools(PanTool(), WheelZoomTool(), ResizeTool(), BoxSelectTool())\n",
    "\n",
    "# Show the map\n",
    "show(plot)"
   ]
  },
  {
   "cell_type": "code",
   "execution_count": 11,
   "metadata": {
    "collapsed": false
   },
   "outputs": [
    {
     "data": {
      "text/plain": [
       "array('d', [24.950899, 24.953492, 24.95351, 24.950958, 24.950899])"
      ]
     },
     "execution_count": 11,
     "metadata": {},
     "output_type": "execute_result"
    }
   ],
   "source": [
    "x_coords"
   ]
  }
 ],
 "metadata": {
  "kernelspec": {
   "display_name": "Python [default]",
   "language": "python",
   "name": "python3"
  },
  "language_info": {
   "codemirror_mode": {
    "name": "ipython",
    "version": 3
   },
   "file_extension": ".py",
   "mimetype": "text/x-python",
   "name": "python",
   "nbconvert_exporter": "python",
   "pygments_lexer": "ipython3",
   "version": "3.5.2"
  }
 },
 "nbformat": 4,
 "nbformat_minor": 0
}
